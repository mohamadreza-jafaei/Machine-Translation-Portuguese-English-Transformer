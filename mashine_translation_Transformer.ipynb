{
  "cells": [
    {
      "cell_type": "markdown",
      "source": [
        "Import Libraries"
      ],
      "metadata": {
        "id": "snc9_LTkDM15"
      }
    },
    {
      "cell_type": "code",
      "execution_count": 2,
      "metadata": {
        "execution": {
          "iopub.execute_input": "2022-05-31T11:35:48.286756Z",
          "iopub.status.busy": "2022-05-31T11:35:48.286123Z",
          "iopub.status.idle": "2022-05-31T11:35:50.986820Z",
          "shell.execute_reply": "2022-05-31T11:35:50.986148Z"
        },
        "id": "JjJJyJTZYebt"
      },
      "outputs": [],
      "source": [
        "import tensorflow as tf\n",
        "import tensorflow_text\n",
        "import numpy as np\n",
        "import tensorflow_datasets as tfds\n",
        "import matplotlib.pyplot as plt\n"
      ]
    },
    {
      "cell_type": "markdown",
      "source": [
        "Part 1:"
      ],
      "metadata": {
        "id": "wq4a3NnSFL9a"
      }
    },
    {
      "cell_type": "code",
      "execution_count": 3,
      "metadata": {
        "execution": {
          "iopub.execute_input": "2022-05-31T11:35:50.997715Z",
          "iopub.status.busy": "2022-05-31T11:35:50.997059Z",
          "iopub.status.idle": "2022-05-31T11:35:54.733439Z",
          "shell.execute_reply": "2022-05-31T11:35:54.732777Z"
        },
        "id": "8q9t4FmN96eN"
      },
      "outputs": [],
      "source": [
        "def load_dataset():\n",
        "  dataset, _ = tfds.load('ted_hrlr_translate/pt_to_en', with_info=True,shuffle_files=True,as_supervised=True)\n",
        "  train_data, validation_data , test_data = dataset['train'], dataset['validation'], dataset['test']\n",
        "  return train_data, validation_data , test_data "
      ]
    },
    {
      "cell_type": "code",
      "execution_count": 5,
      "metadata": {
        "execution": {
          "iopub.execute_input": "2022-05-31T11:35:55.179345Z",
          "iopub.status.busy": "2022-05-31T11:35:55.178788Z",
          "iopub.status.idle": "2022-05-31T11:35:55.236359Z",
          "shell.execute_reply": "2022-05-31T11:35:55.235810Z"
        },
        "id": "QToMl0NanZPr"
      },
      "outputs": [],
      "source": [
        "def load_bert_tokenizer():\n",
        "  tf.keras.utils.get_file('ted_hrlr_translate_pt_en_converter.zip','https://storage.googleapis.com/download.tensorflow.org/models/ted_hrlr_translate_pt_en_converter.zip',cache_dir='.', cache_subdir='', extract=True)\n",
        "  tokenizers = tf.saved_model.load(\"ted_hrlr_translate_pt_en_converter\")\n",
        "  return tokenizers"
      ]
    },
    {
      "cell_type": "code",
      "source": [
        "def pair_english_and_portegal(portegal, english):\n",
        "    portegal_tokens = tokenizers.pt.tokenize(portegal).to_tensor()\n",
        "    english_tokens = tokenizers.en.tokenize(english).to_tensor()\n",
        "    return portegal_tokens, english_tokens"
      ],
      "metadata": {
        "id": "OxOfTmjj30uY"
      },
      "execution_count": 110,
      "outputs": []
    },
    {
      "cell_type": "code",
      "execution_count": 111,
      "metadata": {
        "execution": {
          "iopub.execute_input": "2022-05-31T11:36:05.386620Z",
          "iopub.status.busy": "2022-05-31T11:36:05.386394Z",
          "iopub.status.idle": "2022-05-31T11:36:05.389760Z",
          "shell.execute_reply": "2022-05-31T11:36:05.389231Z"
        },
        "id": "81fPafMpSVJ-"
      },
      "outputs": [],
      "source": [
        "def remove_large_sentenses(portegal, english):\n",
        "  shape_portegal = tf.shape(portegal)[1]\n",
        "  shape_english = tf.shape(english)[1]\n",
        "  if  shape_portegal < 140 and shape_english<140:\n",
        "    is_a_short_message =True\n",
        "  else :\n",
        "    is_a_short_message =False\n",
        "  return is_a_short_message"
      ]
    },
    {
      "cell_type": "code",
      "execution_count": 112,
      "metadata": {
        "execution": {
          "iopub.execute_input": "2022-05-31T11:36:05.403686Z",
          "iopub.status.busy": "2022-05-31T11:36:05.403462Z",
          "iopub.status.idle": "2022-05-31T11:36:05.648690Z",
          "shell.execute_reply": "2022-05-31T11:36:05.648072Z"
        },
        "id": "BUN_jLBTwNxk"
      },
      "outputs": [],
      "source": [
        "train_data, validation_data , test_data  = load_dataset()\n",
        "tokenizers = load_bert_tokenizer()\n",
        "train_batches = train_data.cache().shuffle(10000).batch(64).map(pair_english_and_portegal, num_parallel_calls=tf.data.AUTOTUNE).filter(remove_large_sentenses).prefetch(tf.data.AUTOTUNE)\n",
        "val_batches = validation_data.cache().shuffle(10000).batch(64).map(pair_english_and_portegal, num_parallel_calls=tf.data.AUTOTUNE).filter(remove_large_sentenses).prefetch(tf.data.AUTOTUNE)\n",
        "test_batches = test_data.cache().shuffle(10000).batch(64).map(pair_english_and_portegal, num_parallel_calls=tf.data.AUTOTUNE).filter(remove_large_sentenses).prefetch(tf.data.AUTOTUNE)"
      ]
    },
    {
      "cell_type": "markdown",
      "source": [
        "Part 2:"
      ],
      "metadata": {
        "id": "DjHrreKKi709"
      }
    },
    {
      "cell_type": "code",
      "execution_count": 113,
      "metadata": {
        "execution": {
          "iopub.execute_input": "2022-05-31T11:36:05.658336Z",
          "iopub.status.busy": "2022-05-31T11:36:05.658109Z",
          "iopub.status.idle": "2022-05-31T11:36:05.662296Z",
          "shell.execute_reply": "2022-05-31T11:36:05.661716Z"
        },
        "id": "1Rz82wEs5biZ"
      },
      "outputs": [],
      "source": [
        "def positional_encoding(pos, d):\n",
        "  power =  (2 * (np.arange(d)[np.newaxis, :]//2)) / np.float32(d)\n",
        "  PE = np.arange(pos)[:, np.newaxis] * ( 1 / np.power(10000,power))\n",
        "  PE[:, 0::2] = np.sin(PE[:, 0::2])\n",
        "  PE[:, 1::2] = np.cos(PE[:, 1::2])\n",
        "  output = tf.cast(PE[np.newaxis, ...], dtype=tf.float32)\n",
        "  return output"
      ]
    },
    {
      "cell_type": "markdown",
      "source": [
        "Part 3:"
      ],
      "metadata": {
        "id": "So4mqEGLsKEE"
      }
    },
    {
      "cell_type": "code",
      "execution_count": 13,
      "metadata": {
        "execution": {
          "iopub.execute_input": "2022-05-31T11:36:06.285826Z",
          "iopub.status.busy": "2022-05-31T11:36:06.285569Z",
          "iopub.status.idle": "2022-05-31T11:36:06.289297Z",
          "shell.execute_reply": "2022-05-31T11:36:06.288742Z"
        },
        "id": "U2i8-e1s8ti9"
      },
      "outputs": [],
      "source": [
        "def create_padding_mask(seq):\n",
        "  seq = tf.cast(tf.math.equal(seq, 0), tf.float32)\n",
        "  return seq[:, tf.newaxis, tf.newaxis, :] "
      ]
    },
    {
      "cell_type": "code",
      "execution_count": 14,
      "metadata": {
        "execution": {
          "iopub.execute_input": "2022-05-31T11:36:06.301301Z",
          "iopub.status.busy": "2022-05-31T11:36:06.301069Z",
          "iopub.status.idle": "2022-05-31T11:36:06.304453Z",
          "shell.execute_reply": "2022-05-31T11:36:06.303931Z"
        },
        "id": "dVxS8OPI9uI0"
      },
      "outputs": [],
      "source": [
        "def create_look_ahead_mask(size):\n",
        "  mask = 1 - tf.linalg.band_part(tf.ones((size, size)), -1, 0)\n",
        "  return mask "
      ]
    },
    {
      "cell_type": "code",
      "execution_count": 15,
      "metadata": {
        "execution": {
          "iopub.execute_input": "2022-05-31T11:36:06.320871Z",
          "iopub.status.busy": "2022-05-31T11:36:06.320636Z",
          "iopub.status.idle": "2022-05-31T11:36:06.325633Z",
          "shell.execute_reply": "2022-05-31T11:36:06.325090Z"
        },
        "id": "LazzUq3bJ5SH"
      },
      "outputs": [],
      "source": [
        "def scaled_dot_product_attention(q, k, v, mask):\n",
        "  matmul_qk = tf.matmul(q, k, transpose_b=True) \n",
        "  dk = tf.cast(tf.shape(k)[-1], tf.float32)\n",
        "  scaled_attention_logits = matmul_qk / tf.math.sqrt(dk)\n",
        "  if mask is not None:\n",
        "    scaled_attention_logits += (mask * -1e9)\n",
        "  attention_weights = tf.nn.softmax(scaled_attention_logits, axis=-1) \n",
        "  output = tf.matmul(attention_weights, v)\n",
        "  return output, attention_weights"
      ]
    },
    {
      "cell_type": "code",
      "execution_count": 16,
      "metadata": {
        "execution": {
          "iopub.execute_input": "2022-05-31T11:36:06.619142Z",
          "iopub.status.busy": "2022-05-31T11:36:06.618926Z",
          "iopub.status.idle": "2022-05-31T11:36:06.626399Z",
          "shell.execute_reply": "2022-05-31T11:36:06.625855Z"
        },
        "id": "BSV3PPKsYecw"
      },
      "outputs": [],
      "source": [
        "class MultiHeadAttention(tf.keras.layers.Layer):\n",
        "  def __init__(self,*, d, num_heads):\n",
        "    super(MultiHeadAttention, self).__init__()\n",
        "    self.num_heads = num_heads\n",
        "    self.d = d\n",
        "    self.depth = d // self.num_heads\n",
        "    self.wq = tf.keras.layers.Dense(d)\n",
        "    self.wk = tf.keras.layers.Dense(d)\n",
        "    self.wv = tf.keras.layers.Dense(d)\n",
        "    self.dense = tf.keras.layers.Dense(d)\n",
        "\n",
        "  def split_heads(self, x, batch_size):\n",
        "    x = tf.reshape(x, (batch_size, -1, self.num_heads, self.depth))\n",
        "    return tf.transpose(x, perm=[0, 2, 1, 3])\n",
        "\n",
        "  def call(self, v, k, q, mask):\n",
        "    batch_size = tf.shape(q)[0]\n",
        "    q = self.wq(q) \n",
        "    k = self.wk(k)\n",
        "    v = self.wv(v)\n",
        "    q = self.split_heads(q, batch_size)\n",
        "    k = self.split_heads(k, batch_size)\n",
        "    v = self.split_heads(v, batch_size)\n",
        "    scaled_attention, attention_weights = scaled_dot_product_attention(q, k, v, mask)\n",
        "    scaled_attention = tf.transpose(scaled_attention, perm=[0, 2, 1, 3])  \n",
        "    concat_attention = tf.reshape(scaled_attention,(batch_size, -1, self.d))\n",
        "    output = self.dense(concat_attention)\n",
        "\n",
        "    return output, attention_weights"
      ]
    },
    {
      "cell_type": "code",
      "execution_count": 17,
      "metadata": {
        "execution": {
          "iopub.execute_input": "2022-05-31T11:36:06.657350Z",
          "iopub.status.busy": "2022-05-31T11:36:06.657097Z",
          "iopub.status.idle": "2022-05-31T11:36:06.660523Z",
          "shell.execute_reply": "2022-05-31T11:36:06.659962Z"
        },
        "id": "ET7xLt0yCT6Z"
      },
      "outputs": [],
      "source": [
        "def point_wise_feed_forward_network(d_model, dff):\n",
        "  model = tf.keras.Sequential([\n",
        "      tf.keras.layers.Dense(dff, activation='relu'), \n",
        "      tf.keras.layers.Dense(d_model) \n",
        "  ])\n",
        "  return model"
      ]
    },
    {
      "cell_type": "code",
      "execution_count": 18,
      "metadata": {
        "execution": {
          "iopub.execute_input": "2022-05-31T11:36:06.693849Z",
          "iopub.status.busy": "2022-05-31T11:36:06.693629Z",
          "iopub.status.idle": "2022-05-31T11:36:06.699145Z",
          "shell.execute_reply": "2022-05-31T11:36:06.698600Z"
        },
        "id": "ncyS-Ms3i2x_"
      },
      "outputs": [],
      "source": [
        "class EncoderLayer(tf.keras.layers.Layer):\n",
        "  def __init__(self,*, d_model, num_heads, dff, rate=0.1):\n",
        "    super(EncoderLayer, self).__init__()\n",
        "    self.mha = MultiHeadAttention(d_model=d_model, num_heads=num_heads)\n",
        "    self.ffn = point_wise_feed_forward_network(d_model, dff)\n",
        "    self.layernorm1 = tf.keras.layers.LayerNormalization(epsilon=1e-6)\n",
        "    self.layernorm2 = tf.keras.layers.LayerNormalization(epsilon=1e-6)\n",
        "    self.dropout1 = tf.keras.layers.Dropout(rate)\n",
        "    self.dropout2 = tf.keras.layers.Dropout(rate)\n",
        "\n",
        "  def call(self, x, training, mask):\n",
        "    attn_output, _ = self.mha(x, x, x, mask)\n",
        "    attn_output = self.dropout1(attn_output, training=training)\n",
        "    out1 = self.layernorm1(x + attn_output) \n",
        "    ffn_output = self.ffn(out1) \n",
        "    ffn_output = self.dropout2(ffn_output, training=training)\n",
        "    out2 = self.layernorm2(out1 + ffn_output)\n",
        "    return out2"
      ]
    },
    {
      "cell_type": "code",
      "execution_count": 19,
      "metadata": {
        "execution": {
          "iopub.execute_input": "2022-05-31T11:36:06.751843Z",
          "iopub.status.busy": "2022-05-31T11:36:06.751624Z",
          "iopub.status.idle": "2022-05-31T11:36:06.758777Z",
          "shell.execute_reply": "2022-05-31T11:36:06.758266Z"
        },
        "id": "9SoX0-vd1hue"
      },
      "outputs": [],
      "source": [
        "class DecoderLayer(tf.keras.layers.Layer):\n",
        "  def __init__(self,*, d_model, num_heads, dff, rate=0.1):\n",
        "    super(DecoderLayer, self).__init__()\n",
        "\n",
        "    self.mha1 = MultiHeadAttention(d_model=d_model, num_heads=num_heads)\n",
        "    self.mha2 = MultiHeadAttention(d_model=d_model, num_heads=num_heads)\n",
        "    self.ffn = point_wise_feed_forward_network(d_model, dff)\n",
        "    self.layernorm1 = tf.keras.layers.LayerNormalization(epsilon=1e-6)\n",
        "    self.layernorm2 = tf.keras.layers.LayerNormalization(epsilon=1e-6)\n",
        "    self.layernorm3 = tf.keras.layers.LayerNormalization(epsilon=1e-6)\n",
        "    self.dropout1 = tf.keras.layers.Dropout(rate)\n",
        "    self.dropout2 = tf.keras.layers.Dropout(rate)\n",
        "    self.dropout3 = tf.keras.layers.Dropout(rate)\n",
        "\n",
        "  def call(self, x, enc_output, training,\n",
        "           look_ahead_mask, padding_mask):\n",
        "\n",
        "    attn1, attn_weights_block1 = self.mha1(x, x, x, look_ahead_mask)\n",
        "    out1 = self.layernorm1(attn1 + x)\n",
        "    attn2, attn_weights_block2 = self.mha2(\n",
        "        enc_output, enc_output, out1, padding_mask) \n",
        "    attn2 = self.dropout2(attn2, training=training)\n",
        "    out2 = self.layernorm2(attn2 + out1) \n",
        "    ffn_output = self.ffn(out2)\n",
        "    ffn_output = self.dropout3(ffn_output, training=training)\n",
        "    out3 = self.layernorm3(ffn_output + out2)\n",
        "\n",
        "    return out3, attn_weights_block1, attn_weights_block2"
      ]
    },
    {
      "cell_type": "code",
      "execution_count": 20,
      "metadata": {
        "execution": {
          "iopub.execute_input": "2022-05-31T11:36:06.825810Z",
          "iopub.status.busy": "2022-05-31T11:36:06.825566Z",
          "iopub.status.idle": "2022-05-31T11:36:06.831956Z",
          "shell.execute_reply": "2022-05-31T11:36:06.831415Z"
        },
        "id": "jpEox7gJ8FCI"
      },
      "outputs": [],
      "source": [
        "class Encoder(tf.keras.layers.Layer):\n",
        "  def __init__(self,*, num_layers, d_model, num_heads, dff, input_vocab_size,\n",
        "               rate=0.1):\n",
        "    super(Encoder, self).__init__()\n",
        "    self.d_model = d_model\n",
        "    self.num_layers = num_layers\n",
        "    self.embedding = tf.keras.layers.Embedding(input_vocab_size, d_model)\n",
        "    self.pos_encoding = positional_encoding(140, self.d_model)\n",
        "    self.enc_layers = [\n",
        "        EncoderLayer(d_model=d_model, num_heads=num_heads, dff=dff, rate=rate)\n",
        "        for _ in range(num_layers)]\n",
        "    self.dropout = tf.keras.layers.Dropout(rate)\n",
        "\n",
        "  def call(self, x, training, mask):\n",
        "    seq_len = tf.shape(x)[1]\n",
        "    x = self.embedding(x)\n",
        "    x *= tf.math.sqrt(tf.cast(self.d_model, tf.float32))\n",
        "    x += self.pos_encoding[:, :seq_len, :]\n",
        "    x = self.dropout(x, training=training)\n",
        "    for i in range(self.num_layers):\n",
        "      x = self.enc_layers[i](x, training, mask)\n",
        "\n",
        "    return x"
      ]
    },
    {
      "cell_type": "code",
      "execution_count": 21,
      "metadata": {
        "execution": {
          "iopub.execute_input": "2022-05-31T11:36:06.928995Z",
          "iopub.status.busy": "2022-05-31T11:36:06.928359Z",
          "iopub.status.idle": "2022-05-31T11:36:06.935668Z",
          "shell.execute_reply": "2022-05-31T11:36:06.935089Z"
        },
        "id": "d5_d5-PLQXwY"
      },
      "outputs": [],
      "source": [
        "class Decoder(tf.keras.layers.Layer):\n",
        "  def __init__(self,*, num_layers, d_model, num_heads, dff, target_vocab_size,\n",
        "               rate=0.1):\n",
        "    super(Decoder, self).__init__()\n",
        "    self.d_model = d_model\n",
        "    self.num_layers = num_layers\n",
        "    self.embedding = tf.keras.layers.Embedding(target_vocab_size, d_model)\n",
        "    self.pos_encoding = positional_encoding(140, d_model)\n",
        "    self.dec_layers = [ DecoderLayer(d_model=d_model, num_heads=num_heads, dff=dff, rate=rate) for _ in range(num_layers)]\n",
        "    self.dropout = tf.keras.layers.Dropout(rate)\n",
        "\n",
        "  def call(self, x, enc_output, training,look_ahead_mask, padding_mask):\n",
        "    seq_len = tf.shape(x)[1]\n",
        "    attention_weights = {}\n",
        "    x = self.embedding(x)\n",
        "    x *= tf.math.sqrt(tf.cast(self.d_model, tf.float32))\n",
        "    x += self.pos_encoding[:, :seq_len, :]\n",
        "    x = self.dropout(x, training=training)\n",
        "    for i in range(self.num_layers):\n",
        "      x, block1, block2 = self.dec_layers[i](x, enc_output, training,look_ahead_mask, padding_mask)\n",
        "      attention_weights[f'decoder_layer{i+1}_block1'] = block1\n",
        "      attention_weights[f'decoder_layer{i+1}_block2'] = block2\n",
        "    return x, attention_weights"
      ]
    },
    {
      "cell_type": "code",
      "execution_count": 22,
      "metadata": {
        "execution": {
          "iopub.execute_input": "2022-05-31T11:36:07.065828Z",
          "iopub.status.busy": "2022-05-31T11:36:07.065553Z",
          "iopub.status.idle": "2022-05-31T11:36:07.071981Z",
          "shell.execute_reply": "2022-05-31T11:36:07.071438Z"
        },
        "id": "PED3bIpOYkBu"
      },
      "outputs": [],
      "source": [
        "class Transformer(tf.keras.Model):\n",
        "  def __init__(self,*, num_layers, d_model, num_heads, dff, input_vocab_size,\n",
        "               target_vocab_size, rate=0.1):\n",
        "    super().__init__()\n",
        "    self.encoder = Encoder(num_layers=num_layers, d_model=d_model,\n",
        "                           num_heads=num_heads, dff=dff,\n",
        "                           input_vocab_size=input_vocab_size, rate=rate)\n",
        "    self.decoder = Decoder(num_layers=num_layers, d_model=d_model,\n",
        "                           num_heads=num_heads, dff=dff,\n",
        "                           target_vocab_size=target_vocab_size, rate=rate)\n",
        "    self.final_layer = tf.keras.layers.Dense(target_vocab_size)\n",
        "\n",
        "  def call(self, inputs, training):\n",
        "    inp, tar = inputs\n",
        "    padding_mask, look_ahead_mask = self.create_masks(inp, tar)\n",
        "    enc_output = self.encoder(inp, training, padding_mask)\n",
        "    dec_output, attention_weights = self.decoder(\n",
        "        tar, enc_output, training, look_ahead_mask, padding_mask)\n",
        "    final_output = self.final_layer(dec_output)\n",
        "    return final_output, attention_weights\n",
        "\n",
        "  def create_masks(self, inp, tar):\n",
        "    padding_mask = create_padding_mask(inp)\n",
        "    look_ahead_mask = create_look_ahead_mask(tf.shape(tar)[1])\n",
        "    dec_target_padding_mask = create_padding_mask(tar)\n",
        "    look_ahead_mask = tf.maximum(dec_target_padding_mask, look_ahead_mask)\n",
        "    return padding_mask, look_ahead_mask"
      ]
    },
    {
      "cell_type": "code",
      "execution_count": 27,
      "metadata": {
        "execution": {
          "iopub.execute_input": "2022-05-31T11:36:07.426632Z",
          "iopub.status.busy": "2022-05-31T11:36:07.426410Z",
          "iopub.status.idle": "2022-05-31T11:36:07.431138Z",
          "shell.execute_reply": "2022-05-31T11:36:07.430645Z"
        },
        "id": "67oqVHiT0Eiu"
      },
      "outputs": [],
      "source": [
        "def loss_function(real, pred):\n",
        "  mask = tf.math.logical_not(tf.math.equal(real, 0))\n",
        "  loss_ = loss_object(real, pred)\n",
        "  mask = tf.cast(mask, dtype=loss_.dtype)\n",
        "  loss_ *= mask\n",
        "  return tf.reduce_sum(loss_)/tf.reduce_sum(mask)\n",
        "\n",
        "def accuracy_function(real, pred):\n",
        "  accuracies = tf.equal(real, tf.argmax(pred, axis=2))\n",
        "  mask = tf.math.logical_not(tf.math.equal(real, 0))\n",
        "  accuracies = tf.math.logical_and(mask, accuracies)\n",
        "  accuracies = tf.cast(accuracies, dtype=tf.float32)\n",
        "  mask = tf.cast(mask, dtype=tf.float32)\n",
        "  return tf.reduce_sum(accuracies)/tf.reduce_sum(mask)"
      ]
    },
    {
      "cell_type": "code",
      "execution_count": 103,
      "metadata": {
        "execution": {
          "iopub.execute_input": "2022-05-31T11:36:07.433910Z",
          "iopub.status.busy": "2022-05-31T11:36:07.433689Z",
          "iopub.status.idle": "2022-05-31T11:36:07.442244Z",
          "shell.execute_reply": "2022-05-31T11:36:07.441717Z"
        },
        "id": "phlyxMnm-Tpx"
      },
      "outputs": [],
      "source": [
        "train_loss = tf.keras.metrics.Mean(name='train_loss')\n",
        "train_accuracy = tf.keras.metrics.Mean(name='train_accuracy')\n",
        "validation_loss = tf.keras.metrics.Mean(name='validation_loss_loss')\n",
        "validation_accuracy = tf.keras.metrics.Mean(name='validation_loss_accuracy')\n",
        "\n",
        "optimizer = tf.keras.optimizers.Adam(0.05, beta_1=0.9, beta_2=0.98,epsilon=1e-9)\n",
        "loss_object = tf.keras.losses.SparseCategoricalCrossentropy(from_logits=True, reduction='none')\n",
        "transformer = Transformer(num_layers=5,d_model=128,num_heads=8,dff=512,input_vocab_size=tokenizers.pt.get_vocab_size().numpy(),target_vocab_size=tokenizers.en.get_vocab_size().numpy(),rate=0.1)"
      ]
    },
    {
      "cell_type": "code",
      "execution_count": 122,
      "metadata": {
        "execution": {
          "iopub.execute_input": "2022-05-31T11:36:07.555944Z",
          "iopub.status.busy": "2022-05-31T11:36:07.555715Z",
          "iopub.status.idle": "2022-05-31T11:36:07.560982Z",
          "shell.execute_reply": "2022-05-31T11:36:07.560401Z"
        },
        "id": "iJwmp9OE29oj"
      },
      "outputs": [],
      "source": [
        "train_step_signature = [\n",
        "    tf.TensorSpec(shape=(None, None), dtype=tf.int64),\n",
        "    tf.TensorSpec(shape=(None, None), dtype=tf.int64),\n",
        "]\n",
        "\n",
        "@tf.function(input_signature=train_step_signature)\n",
        "def train_step(inp, tar):\n",
        "  tar_inp = tar[:, :-1]\n",
        "  tar_real = tar[:, 1:]\n",
        "  with tf.GradientTape() as tape:\n",
        "    predictions, _ = transformer([inp, tar_inp],training = True)\n",
        "    loss = loss_function(tar_real, predictions)\n",
        "  gradients = tape.gradient(loss, transformer.trainable_variables)\n",
        "  optimizer.apply_gradients(zip(gradients, transformer.trainable_variables))\n",
        "  train_loss(loss)\n",
        "  train_accuracy(accuracy_function(tar_real, predictions))"
      ]
    },
    {
      "cell_type": "code",
      "execution_count": null,
      "metadata": {
        "execution": {
          "iopub.execute_input": "2022-05-31T11:36:07.563687Z",
          "iopub.status.busy": "2022-05-31T11:36:07.563453Z",
          "iopub.status.idle": "2022-05-31T11:58:39.328628Z",
          "shell.execute_reply": "2022-05-31T11:58:39.327755Z"
        },
        "id": "bbvmaKNiznHZ"
      },
      "outputs": [],
      "source": [
        "for epoch in range(35):\n",
        "  train_loss.reset_states()\n",
        "  train_accuracy.reset_states()\n",
        "  for (batch, (inp, tar)) in enumerate(train_batches):\n",
        "    train_step(inp, tar)\n",
        "  print(\"Epoch = \" + str(epoch + 1) + \"- loss = \" + str(train_loss.result().numpy()) + \" accuracy = \" + str( train_accuracy.result().numpy()))"
      ]
    },
    {
      "cell_type": "code",
      "execution_count": 124,
      "metadata": {
        "execution": {
          "iopub.execute_input": "2022-05-31T11:58:39.332476Z",
          "iopub.status.busy": "2022-05-31T11:58:39.332187Z",
          "iopub.status.idle": "2022-05-31T11:58:39.340554Z",
          "shell.execute_reply": "2022-05-31T11:58:39.339923Z"
        },
        "id": "5buvMlnvyrFm"
      },
      "outputs": [],
      "source": [
        "class Translator(tf.Module):\n",
        "  def __init__(self, tokenizers, transformer):\n",
        "    self.tokenizers = tokenizers\n",
        "    self.transformer = transformer\n",
        "\n",
        "  def __call__(self, sentence, max_length=140):\n",
        "    assert isinstance(sentence, tf.Tensor)\n",
        "    if len(sentence.shape) == 0:\n",
        "      sentence = sentence[tf.newaxis]\n",
        "    sentence = self.tokenizers.pt.tokenize(sentence).to_tensor()\n",
        "    encoder_input = sentence\n",
        "    start_end = self.tokenizers.en.tokenize([''])[0]\n",
        "    start = start_end[0][tf.newaxis]\n",
        "    end = start_end[1][tf.newaxis]\n",
        "    output_array = tf.TensorArray(dtype=tf.int64, size=0, dynamic_size=True)\n",
        "    output_array = output_array.write(0, start)\n",
        "    for i in tf.range(max_length):\n",
        "      output = tf.transpose(output_array.stack())\n",
        "      predictions, _ = self.transformer([encoder_input, output], training=False)\n",
        "      predictions = predictions[:, -1:, :]  \n",
        "      predicted_id = tf.argmax(predictions, axis=-1)\n",
        "      output_array = output_array.write(i+1, predicted_id[0])\n",
        "      if predicted_id == end:\n",
        "        break\n",
        "    output = tf.transpose(output_array.stack())\n",
        "    text = tokenizers.en.detokenize(output)[0]\n",
        "    tokens = tokenizers.en.lookup(output)[0]\n",
        "    _, attention_weights = self.transformer([encoder_input, output[:,:-1]], training=False)\n",
        "    return text, tokens, attention_weights"
      ]
    },
    {
      "cell_type": "code",
      "source": [
        "translator = Translator(tokenizers, transformer)"
      ],
      "metadata": {
        "id": "R8IocdnpG74R"
      },
      "execution_count": null,
      "outputs": []
    },
    {
      "cell_type": "code",
      "source": [
        "examples = []\n",
        "for pt_examples, en_examples in validation_data.batch(20).take(1):\n",
        "  for i in range(len(pt_examples.numpy())):\n",
        "    pt = pt_examples.numpy()[i].decode('utf-8')\n",
        "    en = en_examples.numpy()[i].decode('utf-8')\n",
        "    example = [pt,en]\n",
        "    examples.append(example)\n"
      ],
      "metadata": {
        "id": "NfHG_SH05Mpp"
      },
      "execution_count": 125,
      "outputs": []
    },
    {
      "cell_type": "code",
      "execution_count": null,
      "metadata": {
        "execution": {
          "iopub.execute_input": "2022-05-31T11:58:39.354600Z",
          "iopub.status.busy": "2022-05-31T11:58:39.354389Z",
          "iopub.status.idle": "2022-05-31T11:58:41.352656Z",
          "shell.execute_reply": "2022-05-31T11:58:41.351814Z"
        },
        "id": "YsxrAlvFG8SZ"
      },
      "outputs": [],
      "source": [
        "for data in examples:\n",
        "  translated_text, translated_tokens, attention_weights = Translator(tokenizers, transformer , tf.constant(data[0]))\n",
        "  print( \"Input Data     = \" + str(data[0]))\n",
        "  print(\"model Translate = \" + str(translated_text.numpy().decode(\"utf-8\")))\n",
        "  print( \"real Translate = \" + str(data[1]))\n",
        "  print(\"-------------------------------------------\")"
      ]
    },
    {
      "cell_type": "code",
      "execution_count": 114,
      "metadata": {
        "execution": {
          "iopub.execute_input": "2022-05-31T11:58:46.690395Z",
          "iopub.status.busy": "2022-05-31T11:58:46.689929Z",
          "iopub.status.idle": "2022-05-31T11:58:46.694345Z",
          "shell.execute_reply": "2022-05-31T11:58:46.693755Z"
        },
        "id": "MBliB-PCzNK3"
      },
      "outputs": [],
      "source": [
        "def show_heads(sentence, translated_tokens,heads):\n",
        "  fig = plt.figure(figsize=(25, 12))\n",
        "  token = tokenizers.pt.lookup(tokenizers.pt.tokenize(tf.convert_to_tensor([sentence])).to_tensor())[0] \n",
        "  for h, head in enumerate(heads):\n",
        "    ax = fig.add_subplot(2, 4, h+1)\n",
        "    ax = plt.gca()\n",
        "    ax.matshow(head)\n",
        "    ax.set_xticks(range(len(token)))\n",
        "    ax.set_yticks(range(len(translated_tokens)))\n",
        "    labels = [label.decode('utf-8') for label in token.numpy()]\n",
        "    ax.set_xticklabels(labels, rotation=90)\n",
        "    labels = [label.decode('utf-8') for label in translated_tokens.numpy()]\n",
        "    ax.set_yticklabels(labels)\n",
        "    ax.set_xlabel(f'Head {h+1}')\n",
        "  plt.tight_layout()\n",
        "  plt.show()"
      ]
    },
    {
      "cell_type": "code",
      "execution_count": 115,
      "metadata": {
        "execution": {
          "iopub.execute_input": "2022-05-31T11:58:46.697173Z",
          "iopub.status.busy": "2022-05-31T11:58:46.696696Z",
          "iopub.status.idle": "2022-05-31T11:58:47.561831Z",
          "shell.execute_reply": "2022-05-31T11:58:47.561173Z"
        },
        "id": "pyRQi7944wru",
        "outputId": "289bcf0e-a16e-4438-fe71-d8a3581f2379",
        "colab": {
          "base_uri": "https://localhost:8080/",
          "height": 851
        }
      },
      "outputs": [
        {
          "output_type": "display_data",
          "data": {
            "text/plain": [
              "<Figure size 1800x864 with 8 Axes>"
            ],
            "image/png": "[encoded data removed]"
          },
          "metadata": {
            "needs_background": "light"
          }
        }
      ],
      "source": [
        "data = examples[0]\n",
        "translated_text, translated_tokens, attention_weights = translator(tf.constant(data[0]))\n",
        "show_heads(data[0], translated_tokens[1:],attention_weights['decoder_layer4_block2'][0])"
      ]
    }
  ],
  "metadata": {
    "accelerator": "GPU",
    "colab": {
      "collapsed_sections": [],
      "name": "ANN_HW8_Transformer.ipynb",
      "provenance": []
    },
    "kernelspec": {
      "display_name": "Python 3",
      "name": "python3"
    },
    "language_info": {
      "codemirror_mode": {
        "name": "ipython",
        "version": 3
      },
      "file_extension": ".py",
      "mimetype": "text/x-python",
      "name": "python",
      "nbconvert_exporter": "python",
      "pygments_lexer": "ipython3",
      "version": "3.9.13"
    },
    "gpuClass": "standard"
  },
  "nbformat": 4,
  "nbformat_minor": 0
}